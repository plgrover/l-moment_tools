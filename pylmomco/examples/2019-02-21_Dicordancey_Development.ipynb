{
 "cells": [
  {
   "cell_type": "code",
   "execution_count": 26,
   "metadata": {},
   "outputs": [],
   "source": [
    "import numpy as np\n",
    "from numpy.linalg import inv"
   ]
  },
  {
   "cell_type": "code",
   "execution_count": 79,
   "metadata": {},
   "outputs": [],
   "source": [
    "t2 = [0.729,0.3106,0.5739,0.2348,0.2521,0.2656,0.2009,0.2117,0.2027,0.2376,0.1784,0.2757,0.2216,0.2194,0.2669,0.202,0.2129,0.2131,0.2135,0.2017,0.2362,0.2326,0.2503]"
   ]
  },
  {
   "cell_type": "code",
   "execution_count": 80,
   "metadata": {},
   "outputs": [],
   "source": [
    "t3 = [-0.0536,-0.1257,-0.0326,0.4026,0.3706,0.2087,0.2278,0.2511,0.1611,0.0358,0.1017,0.2962,0.0446,0.1292,0.2544,0.1111,0.1996,0.1414,0.1362,0.1605,0.2075,0.1673,0.144]"
   ]
  },
  {
   "cell_type": "code",
   "execution_count": 87,
   "metadata": {},
   "outputs": [],
   "source": [
    "t4 = [0.0542,0.1969,0.16,0.1866,0.2048,0.0098,0.1985,0.2001,0.0018,0.0216,0.0218,0.1444,0.0567,0.0253,0.0898,0.0631,0.0543,0.1078,0.0842,0.0999,0.0915,0.115,0.0856]"
   ]
  },
  {
   "cell_type": "code",
   "execution_count": 88,
   "metadata": {},
   "outputs": [],
   "source": [
    "sites = [21,23,22,2,13,12,8,16,7,20,5,10,3,6,14,1,4,19,18,15,17,9,11]"
   ]
  },
  {
   "cell_type": "code",
   "execution_count": 89,
   "metadata": {},
   "outputs": [
    {
     "data": {
      "text/plain": [
       "(23, 23, 23, 23)"
      ]
     },
     "execution_count": 89,
     "metadata": {},
     "output_type": "execute_result"
    }
   ],
   "source": [
    "len(sites), len(t2), len(t3), len(t4)"
   ]
  },
  {
   "cell_type": "code",
   "execution_count": 37,
   "metadata": {},
   "outputs": [],
   "source": [
    "\n",
    "#lmrs <- t(matrix(c(t2, t3, t4), ncol=3))\n",
    "\n",
    "lmrs = np.column_stack((t2, t3, t4))"
   ]
  },
  {
   "cell_type": "raw",
   "metadata": {},
   "source": [
    "lmrs"
   ]
  },
  {
   "cell_type": "code",
   "execution_count": 48,
   "metadata": {},
   "outputs": [],
   "source": [
    "Dcr_table_31 =np.array([1.3333, 1.6481, 1.9166, 2.1401, 2.3287,\n",
    "                       2.4906, 2.6321, 2.7573, 2.8694, 2.9709, 3.])"
   ]
  },
  {
   "cell_type": "code",
   "execution_count": 39,
   "metadata": {},
   "outputs": [
    {
     "data": {
      "text/plain": [
       "array([0.26709565, 0.1538913 , 0.09885652])"
      ]
     },
     "execution_count": 39,
     "metadata": {},
     "output_type": "execute_result"
    }
   ],
   "source": [
    "# lmrmeans is Hosking and Wallis (1997, eq. 3.1)\n",
    "#  lmrmeans <- sapply(1:3, function(i) { mean(lmrs[i, ])        })\n",
    "\n",
    "lmrmeans = lmrs.mean(0)\n",
    "lmrmeans"
   ]
  },
  {
   "cell_type": "code",
   "execution_count": 40,
   "metadata": {},
   "outputs": [
    {
     "data": {
      "text/plain": [
       "array([[ 4.61904348e-01, -2.07491304e-01, -4.46565217e-02],\n",
       "       [ 4.35043478e-02, -2.79591304e-01,  9.80434783e-02],\n",
       "       [ 3.06804348e-01, -1.86491304e-01,  6.11434783e-02],\n",
       "       [-3.22956522e-02,  2.48708696e-01,  8.77434783e-02],\n",
       "       [-1.49956522e-02,  2.16708696e-01,  1.05943478e-01],\n",
       "       [-1.49565217e-03,  5.48086957e-02, -8.90565217e-02],\n",
       "       [-6.61956522e-02,  7.39086957e-02,  9.96434783e-02],\n",
       "       [-5.53956522e-02,  9.72086957e-02,  1.01243478e-01],\n",
       "       [-6.43956522e-02,  7.20869565e-03, -9.70565217e-02],\n",
       "       [-2.94956522e-02, -1.18091304e-01, -7.72565217e-02],\n",
       "       [-8.86956522e-02, -5.21913043e-02, -7.70565217e-02],\n",
       "       [ 8.60434783e-03,  1.42308696e-01,  4.55434783e-02],\n",
       "       [-4.54956522e-02, -1.09291304e-01, -4.21565217e-02],\n",
       "       [-4.76956522e-02, -2.46913043e-02, -7.35565217e-02],\n",
       "       [-1.95652174e-04,  1.00508696e-01, -9.05652174e-03],\n",
       "       [-6.50956522e-02, -4.27913043e-02, -3.57565217e-02],\n",
       "       [-5.41956522e-02,  4.57086957e-02, -4.45565217e-02],\n",
       "       [-5.39956522e-02, -1.24913043e-02,  8.94347826e-03],\n",
       "       [-5.35956522e-02, -1.76913043e-02, -1.46565217e-02],\n",
       "       [-6.53956522e-02,  6.60869565e-03,  1.04347826e-03],\n",
       "       [-3.08956522e-02,  5.36086957e-02, -7.35652174e-03],\n",
       "       [-3.44956522e-02,  1.34086957e-02,  1.61434783e-02],\n",
       "       [-1.67956522e-02, -9.89130435e-03, -1.32565217e-02]])"
      ]
     },
     "execution_count": 40,
     "metadata": {},
     "output_type": "execute_result"
    }
   ],
   "source": [
    "#tmp <- sapply(1:3, function(i) { lmrs[i,] - lmrmeans[i] })\n",
    "# ui - ubar\n",
    "tmp = np.subtract(lmrs,lmrmeans)\n",
    "tmp"
   ]
  },
  {
   "cell_type": "code",
   "execution_count": 41,
   "metadata": {},
   "outputs": [
    {
     "data": {
      "text/plain": [
       "array([[0., 0., 0.],\n",
       "       [0., 0., 0.],\n",
       "       [0., 0., 0.]])"
      ]
     },
     "execution_count": 41,
     "metadata": {},
     "output_type": "execute_result"
    }
   ],
   "source": [
    "A = np.zeros((3,3))\n",
    "A"
   ]
  },
  {
   "cell_type": "code",
   "execution_count": 42,
   "metadata": {},
   "outputs": [
    {
     "data": {
      "text/plain": [
       "array([[ 0.35506615, -0.17231319,  0.01195676],\n",
       "       [-0.17231319,  0.3499517 ,  0.05159865],\n",
       "       [ 0.01195676,  0.05159865,  0.0970987 ]])"
      ]
     },
     "execution_count": 42,
     "metadata": {},
     "output_type": "execute_result"
    }
   ],
   "source": [
    "for j in range(0,3):\n",
    "    for k in range(0,3):\n",
    "        for site in range(0,len(sites)):\n",
    "            A[j,k] = A[j,k] + tmp[site,j] * tmp[site,k]\n",
    "            \n",
    "A"
   ]
  },
  {
   "cell_type": "code",
   "execution_count": 43,
   "metadata": {},
   "outputs": [
    {
     "data": {
      "text/plain": [
       "array([[ 3.92740726,  2.17559311, -1.63974106],\n",
       "       [ 2.17559311,  4.30564098, -2.55593856],\n",
       "       [-1.63974106, -2.55593856, 11.8589539 ]])"
      ]
     },
     "execution_count": 43,
     "metadata": {},
     "output_type": "execute_result"
    }
   ],
   "source": [
    "Ainv = inv(A)\n",
    "Ainv"
   ]
  },
  {
   "cell_type": "code",
   "execution_count": 44,
   "metadata": {},
   "outputs": [
    {
     "data": {
      "text/plain": [
       "array([4.98494631, 4.07267925, 2.38873216, 1.72129309, 1.60923176,\n",
       "       1.00552134, 0.92897996, 0.91193096, 0.83781898, 0.73054112,\n",
       "       0.69160933, 0.63631067, 0.55527354, 0.46044068, 0.37589791,\n",
       "       0.27871208, 0.27437085, 0.13922961, 0.11807135, 0.1173377 ,\n",
       "       0.08301818, 0.05554705, 0.02250613])"
      ]
     },
     "execution_count": 44,
     "metadata": {},
     "output_type": "execute_result"
    }
   ],
   "source": [
    " # Hosking and Wallis (1997, eq. 3.3)\n",
    "D = np.zeros(len(sites))\n",
    "for site in range(0,len(sites)):\n",
    "    for j in range(0,3):\n",
    "        for k in range(0,3):\n",
    "            D[site] = D[site] + tmp[site,j] * tmp[site,k] * Ainv[j,k]\n",
    "    \n",
    "D = D*len(sites)/3.\n",
    "D"
   ]
  },
  {
   "cell_type": "code",
   "execution_count": null,
   "metadata": {},
   "outputs": [],
   "source": []
  },
  {
   "cell_type": "code",
   "execution_count": 56,
   "metadata": {},
   "outputs": [
    {
     "data": {
      "text/plain": [
       "array([ True,  True, False, False, False, False, False, False, False,\n",
       "       False, False, False, False, False, False, False, False, False,\n",
       "       False, False, False, False, False])"
      ]
     },
     "execution_count": 56,
     "metadata": {},
     "output_type": "execute_result"
    }
   ],
   "source": [
    "Dcrit = Dcr_table_31.max()\n",
    "\n",
    "if len(sites) < 15:\n",
    "    Dcrit = Dcr_table_31[len(sites)-5]\n",
    "\n",
    "isD = np.full(len(sites), False, dtype=bool)\n",
    "for site in range(len(sites)):\n",
    "    if D[site] > Dcrit:\n",
    "        isD[site] = True\n",
    "        \n",
    "isD"
   ]
  },
  {
   "cell_type": "code",
   "execution_count": 54,
   "metadata": {},
   "outputs": [
    {
     "data": {
      "text/plain": [
       "1.3333"
      ]
     },
     "execution_count": 54,
     "metadata": {},
     "output_type": "execute_result"
    }
   ],
   "source": [
    "Dcr_table_31[5-5]"
   ]
  },
  {
   "cell_type": "code",
   "execution_count": 57,
   "metadata": {},
   "outputs": [],
   "source": [
    "\n",
    "\n",
    "# Z <- qf(alpha1/nsite, 3, nsite - 4, lower.tail=FALSE)\n",
    "#  D1.by.Fdist <- (nsite - 1)*Z/(nsite - 4 + 3*Z)\n",
    "\n",
    "#qf(.95, df1=5, df2=2) \n"
   ]
  },
  {
   "cell_type": "code",
   "execution_count": 71,
   "metadata": {},
   "outputs": [],
   "source": [
    "nsite =len(sites)"
   ]
  },
  {
   "cell_type": "code",
   "execution_count": 75,
   "metadata": {},
   "outputs": [
    {
     "data": {
      "text/plain": [
       "4.430228888173504"
      ]
     },
     "execution_count": 75,
     "metadata": {},
     "output_type": "execute_result"
    }
   ],
   "source": [
    "V = 0.10/nsite\n",
    "Z = f.isf(V, 3, nsite-4.)\n",
    "D1_by_Fdist = (nsite - 1)*Z/(nsite - 4 + 3*Z)\n",
    "D1_by_Fdist\n",
    "\n",
    "V = 0.010/nsite\n",
    "Z = f.isf(V, 3, nsite-4.)\n",
    "D2_by_Fdist = (nsite - 1)*Z/(nsite - 4 + 3*Z)\n",
    "D2_by_Fdist"
   ]
  },
  {
   "cell_type": "code",
   "execution_count": 77,
   "metadata": {},
   "outputs": [],
   "source": [
    "signif = []\n",
    "for site in range(len(sites)):\n",
    "    if D[site] > D2_by_Fdist:\n",
    "        signif.append(\"**\")\n",
    "    elif D[site] > D1_by_Fdist:\n",
    "        signif.append(\"*\")\n",
    "    else:\n",
    "        signif.append(\"-\")"
   ]
  },
  {
   "cell_type": "code",
   "execution_count": 78,
   "metadata": {},
   "outputs": [
    {
     "data": {
      "text/plain": [
       "['**',\n",
       " '*',\n",
       " '-',\n",
       " '-',\n",
       " '-',\n",
       " '-',\n",
       " '-',\n",
       " '-',\n",
       " '-',\n",
       " '-',\n",
       " '-',\n",
       " '-',\n",
       " '-',\n",
       " '-',\n",
       " '-',\n",
       " '-',\n",
       " '-',\n",
       " '-',\n",
       " '-',\n",
       " '-',\n",
       " '-',\n",
       " '-',\n",
       " '-']"
      ]
     },
     "execution_count": 78,
     "metadata": {},
     "output_type": "execute_result"
    }
   ],
   "source": [
    "signif"
   ]
  },
  {
   "cell_type": "code",
   "execution_count": null,
   "metadata": {},
   "outputs": [],
   "source": []
  }
 ],
 "metadata": {
  "kernelspec": {
   "display_name": "Python 3",
   "language": "python",
   "name": "python3"
  },
  "language_info": {
   "codemirror_mode": {
    "name": "ipython",
    "version": 3
   },
   "file_extension": ".py",
   "mimetype": "text/x-python",
   "name": "python",
   "nbconvert_exporter": "python",
   "pygments_lexer": "ipython3",
   "version": "3.6.5"
  }
 },
 "nbformat": 4,
 "nbformat_minor": 2
}
